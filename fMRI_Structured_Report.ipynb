{
 "cells": [
  {
   "cell_type": "code",
   "execution_count": null,
   "metadata": {
    "extensions": {
     "jupyter_dashboards": {
      "version": 1,
      "views": {
       "grid_default": {
        "hidden": true
       },
       "report_default": {
        "hidden": true
       }
      }
     }
    },
    "init_cell": true
   },
   "outputs": [],
   "source": [
    "from ipypublish.scripts import nb_setup"
   ]
  },
  {
   "cell_type": "code",
   "execution_count": null,
   "metadata": {
    "ipub": {
     "ignore": true
    }
   },
   "outputs": [],
   "source": [
    "# define the subject to report: subject selection - a list with reportable files is generated\n",
    "%pylab inline\n",
    "\n",
    "import os, os.path\n",
    "import json\n",
    "from os.path import join as opj\n",
    "\n",
    "import warnings\n",
    "warnings.filterwarnings(\"ignore\")\n",
    "\n",
    "from IPython.display import SVG, Markdown, display, HTML, Image, clear_output\n",
    "START = '\\033[4m' # start underline\n",
    "END = '\\033[0m' # stop underline\n",
    "\n",
    "import matplotlib.image as mpimg\n",
    "\n",
    "from datetime import datetime\n",
    "\n",
    "from pdf2image import convert_from_path\n",
    "\n",
    "import shutil\n",
    "\n",
    "import csv\n",
    "\n",
    "clear_output()\n",
    "\n",
    "import imageio\n",
    "from PIL import Image\n",
    "\n",
    "import IPython"
   ]
  },
  {
   "cell_type": "code",
   "execution_count": null,
   "metadata": {
    "extensions": {
     "jupyter_dashboards": {
      "version": 1,
      "views": {
       "grid_default": {
        "hidden": true
       },
       "report_default": {
        "hidden": true
       }
      }
     }
    },
    "init_cell": true
   },
   "outputs": [],
   "source": [
    "def printmd(string, color=None):\n",
    "    colorstr = \"<span style='color:{}'>{}</span>\".format(color, string)\n",
    "    display(Markdown(colorstr))"
   ]
  },
  {
   "cell_type": "code",
   "execution_count": null,
   "metadata": {
    "ipub": {
     "ignore": true
    }
   },
   "outputs": [],
   "source": [
    "# Define some parameters\n",
    "wDir = '/data/Patients'\n",
    "oDir = '/data/output'\n",
    "iDir = '/data/Patients/SubjectInfoFiles'\n",
    "patdcmroot = '/data/Patients/tmp_dicom'\n",
    "bids_source = '/data/BIDS_source'\n",
    "# folders and files in the subject directory\n",
    "#folders = ['anat', 'func', 'dwi', 'results', 'fmap', 'not_used']\n",
    "# dictionary linking SeriesDescription to folders\n",
    "#f_dict = {'T1_mprage':'anat', 'WGEN':'func', 'READ':'func', 'ENCO_OLD':'func', 'ENCO_NEW':'func', 'DTI':'dti'} \n",
    "# dictionary defining the number of imags in a functional run, if lower, the run is not complete, double values for SMS (PRISMA)\n",
    "#fimg_dict = {'WGEN': [120, 240], 'READ':[120, 240], 'ENCO_OLD':[96, 192], 'ENCO_NEW':[360,720]}\n",
    "\n",
    "drempels_dict = {'wgen': 'T>5', 'read': 'T>3.5', 'enco_old': 'T>3.5', 'enco_new': 'T>2.5', 'handen': 'T>7', 'voeten': 'T>7', 'mond': 'T>7', 'visus': 'T>10' }"
   ]
  },
  {
   "cell_type": "code",
   "execution_count": null,
   "metadata": {
    "ipub": {
     "ignore": true
    }
   },
   "outputs": [],
   "source": [
    "# Subject selection:\n",
    "def subjects4report():\n",
    "    \"\"\"\n",
    "    \n",
    "    Screens all entrys with sub-<#> in wDir for completion of datatreatment\n",
    "    \n",
    "    returns: patient_list = [subdir, [patientinfo = dcm tags], {figures info per task}]\n",
    "        \n",
    "    \"\"\"\n",
    "        \n",
    "    os.chdir(wDir)\n",
    "    \n",
    "    # Here we define the list of subjects in wDir: sub_list\n",
    "    sub_list = []\n",
    "    print('Checking %s' % wDir) \n",
    "    for item in os.listdir(wDir):\n",
    "        if item.startswith('sub-'):\n",
    "            sub_list.append(item)\n",
    "        \n",
    "    sub_list = sorted(sub_list)\n",
    "    \n",
    "    # Create a list 'patient_list' with for every patient the following elements:\n",
    "    # [[ sub-<accession#>, [dcmtags list], {1stlevel task figures dict}], [idem], ....]\n",
    "    \n",
    "    patient_list = []\n",
    "    \n",
    "    for i, subdir in enumerate(sub_list):\n",
    "        # subdir is the first element of every entry in patient_list\n",
    "        sub_list = [] # temp list to append to patient_list \n",
    "        sub_list.append(subdir)\n",
    "        firstlevel_list = [] # read it from the json if any\n",
    "        patientinfo =[] # this is the second element of every entry in patient_list \n",
    "        \n",
    "        jsonfile = opj(wDir, 'SubjectInfoFiles', subdir + '_log.json')\n",
    "        \n",
    "        try:\n",
    "            with open(jsonfile, \"r\") as j_file:\n",
    "                jdata = json.load(j_file)\n",
    "            \n",
    "            firstlevel_list = sorted(list(set(jdata[\"Statistics\"])))\n",
    "            try:\n",
    "                patientinfo = jdata[\"Subject DCM tags\"]\n",
    "            except:\n",
    "                patientinfo = ['No DCM tags!']\n",
    "        except:\n",
    "            patientinfo = ['No json file!']\n",
    "            \n",
    "        sub_list.append(patientinfo)\n",
    "        \n",
    "        firstlevelfig_dict = {} \n",
    "        # this will become a dictionary with elements { task: [number of figures list] }\n",
    "        # task will be appended with '_N' if the figures are from normalized data\n",
    "        # the list with numbers [a, b, c, d, e] where\n",
    "        # a = the number of realignmentplot images for the task\n",
    "        # b = the number of DesignMatrix images for the task\n",
    "        # c = the number of GlassBrain functional images for the task\n",
    "        # d = the number of detrended signal curve images for the task\n",
    "        # e = the number of anatomy or EPI functional overlay images for the task\n",
    "        \n",
    "        \n",
    "        # define the figures dirs, normalized and not\n",
    "        if len(firstlevel_list) != 0:\n",
    "            fig_dir = opj(oDir, 'results_' + subdir, 'figures')\n",
    "            norm_fig_dir = opj(oDir, 'results_' + subdir + '-N', 'figures')\n",
    "                    \n",
    "            # check the figures for each task in firstlevel_list, normalised\n",
    "            if os.path.isdir(norm_fig_dir):\n",
    "                for task in firstlevel_list:\n",
    "                    \n",
    "                    DesignMatrix_figs = 0\n",
    "                    GlassBrain_figs = 0\n",
    "                    detrended_figs = 0\n",
    "                    overlay_figs = 0\n",
    "                    realignmentplot_figs = 0\n",
    "                    \n",
    "                    for ffile in os.listdir(norm_fig_dir): # count the figures\n",
    "                        if 'DesignMatrix' in ffile and task in ffile:\n",
    "                            DesignMatrix_figs =+ 1\n",
    "                        if 'GlassBrain' in ffile and task in ffile:\n",
    "                            GlassBrain_figs =+ 1\n",
    "                        if 'detrended' in ffile and task in ffile:\n",
    "                            detrended_figs =+ 1\n",
    "                        if 'overlay' in ffile and task.upper() in ffile:\n",
    "                            overlay_figs =+ 1\n",
    "                        if 'realignmentplot' in ffile and task in ffile:\n",
    "                            realignmentplot_figs =+ 1\n",
    "                \n",
    "                    firstlevelfig_dict[task + '-N'] = [realignmentplot_figs, DesignMatrix_figs, GlassBrain_figs, detrended_figs, overlay_figs]\n",
    "                \n",
    "            # check the figures for each task in firstlevel_list, not normalised\n",
    "            if os.path.isdir(fig_dir):\n",
    "                for task in firstlevel_list:\n",
    "\n",
    "                    DesignMatrix_figs = 0\n",
    "                    GlassBrain_figs = 0\n",
    "                    detrended_figs = 0\n",
    "                    overlay_figs = 0\n",
    "                    realignmentplot_figs = 0\n",
    "\n",
    "                    for ffile in os.listdir(fig_dir): # count the figures\n",
    "                        if 'DesignMatrix' in ffile and task in ffile:\n",
    "                            DesignMatrix_figs =+ 1\n",
    "                        if 'GlassBrain' in ffile and task in ffile:\n",
    "                            GlassBrain_figs =+ 1\n",
    "                        if 'detrended' in ffile and task in ffile:\n",
    "                            detrended_figs =+ 1\n",
    "                        if 'overlay' in ffile and task.upper() in ffile:\n",
    "                            overlay_figs =+ 1\n",
    "                        if 'realignmentplot' in ffile and task in ffile:\n",
    "                            realignmentplot_figs =+ 1\n",
    "\n",
    "                    firstlevelfig_dict[task] = [realignmentplot_figs, DesignMatrix_figs, GlassBrain_figs, detrended_figs, overlay_figs]\n",
    "                    \n",
    "                         \n",
    "            sub_list.append(firstlevelfig_dict)\n",
    "        \n",
    "        # append for each subject as below\n",
    "        patient_list.append(sub_list)\n",
    "        \n",
    "        #print('There are % subjects in %s.' % (str(len(patient_list))), wDir)\n",
    "    \n",
    "    clear_output()\n",
    "        \n",
    "    return patient_list"
   ]
  },
  {
   "cell_type": "code",
   "execution_count": null,
   "metadata": {
    "ipub": {
     "ignore": true
    }
   },
   "outputs": [],
   "source": [
    "def hasNumbers(inputString):\n",
    "    return bool(re.search(r'\\d', inputString))"
   ]
  },
  {
   "cell_type": "code",
   "execution_count": null,
   "metadata": {
    "ipub": {
     "ignore": true
    }
   },
   "outputs": [],
   "source": [
    "def select_patient4report(patient_list):\n",
    "    \"\"\"\n",
    "    From the 'patient-list' defined with subject4report(), select one for reporting\n",
    "    \n",
    "    The list to select from is constrained with certain criteria that can be selected\n",
    "    \n",
    "    \"\"\"\n",
    "    \n",
    "    print('Which subject should I list to select from?')\n",
    "    print('A: All subjects in %s.' % wDir)\n",
    "    print('B: Only subjects with one or more 1st-level processed tasks?')\n",
    "    print('C: Only those of B with normalised processing?')\n",
    "    print('D: Subjects without tasks if any.')\n",
    "    print('')\n",
    "    \n",
    "    answer = input('Make a selection (default = A): ')\n",
    "    \n",
    "    # Generate a list according to the selection for presentation above\n",
    "    newpat_list = []\n",
    "\n",
    "    if answer == '': answer = 'A'\n",
    "    \n",
    "    if answer == 'A':\n",
    "        newpat_list = patient_list\n",
    "    \n",
    "    elif answer == 'B':\n",
    "        for i, subject in enumerate(patient_list):\n",
    "            if subject[2] != {}:\n",
    "                newpat_list.append(subject)\n",
    "                \n",
    "    elif answer == 'C':\n",
    "        for i, subject in enumerate(patient_list):\n",
    "            taskkeylist = list(subject[2].keys())\n",
    "            if any('-N' in s for s in taskkeylist):\n",
    "                newpat_list.append(subject)\n",
    "                \n",
    "    elif answer == 'D':\n",
    "        for i, subject in enumerate(patient_list):\n",
    "            if subject[2] == {}:\n",
    "                newpat_list.append(subject)  \n",
    "    \n",
    "    # print all the lines in newpat_list according to selection\n",
    "    for i, subject in enumerate(newpat_list):\n",
    "\n",
    "        allfigtasks = []\n",
    "        fig_dict = subject[2]\n",
    "        for item in fig_dict.keys():\n",
    "            psum = sum(fig_dict[item])\n",
    "            if psum >= 5:\n",
    "                allfigtasks.append(item)\n",
    "\n",
    "\n",
    "        if len(allfigtasks) == 0:\n",
    "            allfigtasks = ['No Tasks for reporting']\n",
    "            \n",
    "        if type(subject[1]) == list:\n",
    "\n",
    "            if hasNumbers(subject[1][0]):\n",
    "                sub_name = subject[1][3]\n",
    "                sub_adrema = subject[1][0]\n",
    "                sub_date = subject[1][2]    \n",
    "            else:\n",
    "                sub_name = subject[1][0]\n",
    "                sub_adrema = subject[1][1]\n",
    "                sub_date = subject[1][4]\n",
    "                \n",
    "        if type(subject[1]) == dict:\n",
    "            sub_name = subject[1]['Patient Name']\n",
    "            sub_adrema = subject[1]['Patient ID']\n",
    "            sub_date = subject[1]['Study Date']\n",
    "            \n",
    "\n",
    "        print(\"%i. %s (adrema %s) - Exam date: %s - Tasks with all figures: %s\" %(i+1, sub_name, sub_adrema, sub_date, allfigtasks))\n",
    "\n",
    "    # Make a selection for structured report except when option 'D' was selected\n",
    "    if answer in ['A', 'B', 'C']:\n",
    "        numpat = int(input('Indicate the number of the patient to report: '))\n",
    "\n",
    "        patient2report = newpat_list[numpat-1]\n",
    "\n",
    "        taskList = list(patient2report[2].keys())\n",
    "\n",
    "        if type(newpat_list[numpat-1][1]) == list:\n",
    "            for item in newpat_list[numpat-1][1]:\n",
    "                if hasNumbers(newpat_list[numpat-1][1][0]):\n",
    "                    sub_name = newpat_list[numpat-1][1][3]\n",
    "                    sub_adrema = newpat_list[numpat-1][1][0]\n",
    "                    sub_date = newpat_list[numpat-1][1][2]    \n",
    "                else:\n",
    "                    sub_name = newpat_list[numpat-1][1][0]\n",
    "                    sub_adrema = newpat_list[numpat-1][1][1]\n",
    "                    sub_date = newpat_list[numpat-1][1][4]\n",
    "\n",
    "        elif type(newpat_list[numpat-1][1]) == dict:\n",
    "            sub_name = newpat_list[numpat-1][1]['Patient Name']\n",
    "            sub_adrema = newpat_list[numpat-1][1]['Patient ID']\n",
    "            sub_date = newpat_list[numpat-1][1]['Study Date']\n",
    "\n",
    "        print('Selected patient: %s: Exam date = %s - Tasks with all figures: %s' \n",
    "                   %(sub_name, sub_date, taskList))\n",
    "        \n",
    "    else:\n",
    "        patient2report = []\n",
    "        \n",
    "    clear_output()\n",
    "    \n",
    "    return patient2report \n",
    "    "
   ]
  },
  {
   "cell_type": "code",
   "execution_count": null,
   "metadata": {
    "ipub": {
     "ignore": true
    }
   },
   "outputs": [],
   "source": [
    "def select_task(task_list):\n",
    "    \"\"\"\n",
    "    Function to select the task for reporting SPM results\n",
    "    \n",
    "    returns variable 'task'\n",
    "    \"\"\"\n",
    "    \n",
    "    print('Task(s) for evaluation: %s' % task_list)\n",
    "    \n",
    "    task = raw_input('Choose a task? ')\n",
    "    if task in task_list:\n",
    "        pass\n",
    "    else:\n",
    "        print('Please select one in the list!')\n",
    "        \n",
    "    return task;"
   ]
  },
  {
   "cell_type": "code",
   "execution_count": null,
   "metadata": {
    "ipub": {
     "ignore": true
    }
   },
   "outputs": [],
   "source": [
    "def file_len(fname):\n",
    "    \"\"\"\n",
    "    Function for finding the number of outliers by counting the number of lines in fname\n",
    "    input: fname, the outliers file in preproc \n",
    "    \n",
    "    \"\"\"\n",
    "    with open(fname) as f:\n",
    "        for i, l in enumerate(f):\n",
    "            pass\n",
    "    try:\n",
    "        return i + 1\n",
    "    except:\n",
    "        return 0"
   ]
  },
  {
   "cell_type": "code",
   "execution_count": null,
   "metadata": {
    "ipub": {
     "ignore": true
    }
   },
   "outputs": [],
   "source": [
    "def get_image_dimensions(imagefile):\n",
    "    \"\"\"\n",
    "    Helper function that returns the image dimentions\n",
    "\n",
    "    :param: imagefile str (path to image)\n",
    "    :return dict (of the form: {width:<int>, height=<int>, size_bytes=<size_bytes>)\n",
    "    \"\"\"\n",
    "    \n",
    "    from PIL import Image\n",
    "    \n",
    "    # Inline import for PIL because it is not a common library\n",
    "    with Image.open(imagefile) as img:\n",
    "        # Calculate the width and hight of an image\n",
    "        width, height = img.size\n",
    "\n",
    "    # calculat ethe size in bytes\n",
    "    size_bytes = os.path.getsize(imagefile)\n",
    "\n",
    "    return dict(width=width, height=height, size_bytes=size_bytes)"
   ]
  },
  {
   "cell_type": "code",
   "execution_count": null,
   "metadata": {
    "ipub": {
     "ignore": true
    }
   },
   "outputs": [],
   "source": [
    "def printlines(number):\n",
    "    #print('_'*72)\n",
    "    for i in range(number):\n",
    "        print('')\n",
    "    #print('_'*72)"
   ]
  },
  {
   "cell_type": "code",
   "execution_count": null,
   "metadata": {
    "ipub": {
     "ignore": true
    }
   },
   "outputs": [],
   "source": [
    "def print_summary(patient2report):\n",
    "    \"\"\"\n",
    "    Print the patient summary info\n",
    "    save the name for the PDF output\n",
    "    \n",
    "    \"\"\"\n",
    "    \n",
    "    if type(patient2report[1]) == list:\n",
    "        for item in patient2report[1][1]:\n",
    "            if hasNumbers(patient2report[1][0]):\n",
    "                sub_name = patient2report[1][3]\n",
    "                sub_adrema = patient2report[1][0]\n",
    "                sub_date = patient2report[1][2]    \n",
    "            else:\n",
    "                sub_name = patient2report[1][0]\n",
    "                sub_adrema = patient2report[1][1]\n",
    "                sub_date = patient2report[1][4]\n",
    "\n",
    "    elif type(patient2report[1]) == dict:\n",
    "        sub_name = patient2report[1]['Patient Name']\n",
    "        sub_adrema = patient2report[1]['Patient ID']\n",
    "        sub_date = patient2report[1]['Study Date']\n",
    "        \n",
    "    outputPDF = sub_name + ' ' + sub_adrema + ' ' + sub_date + ' - fMRI.pdf'\n",
    "\n",
    "    printmd('**Patient = %(n)s, Adrema = %(a)s**' % {'n' : sub_name, 'a' : sub_adrema}, color = 'blue')\n",
    "    #date_fMRI = patient2report[1][4]\n",
    "    try: \n",
    "        datetimeobject = datetime.strptime(sub_date,'%Y%m%d')\n",
    "        date_fMRI = datetimeobject.strftime('%m-%d-%Y')\n",
    "    except:\n",
    "        pass\n",
    "    printmd('**Datum van fMRI onderzoek: %s**' % date_fMRI, color = 'blue')\n",
    "    printmd('*Uitgevoerde paradigmas = %s*' % subTasks)\n",
    "\n",
    "    printmd(\"**fMRI rapport voor de uitgevoerde paradigma's**\")\n",
    "    print(START + 'Algemene processing info' + END)\n",
    "    print('Verwerkt met FSL, ANT en SPM op DeepLearningOne') \n",
    "    print('Verwerkingsdata in %s' % suboDir)\n",
    "\n",
    "    print('Datasink %s' % subResultsN)\n",
    "    print('')\n",
    "    print(START + 'Deze figuren worden getoond per paradigma:' + END)\n",
    "    print('1. Realignatie plot en EPI signaal plot')\n",
    "    print('2. Artefact detectie plot')\n",
    "    print('3. Level 1 Design matrix')\n",
    "    print('5. Glasbrein activatie')\n",
    "    print('6. Sneden met activatie (mogelijk meerdere)')\n",
    "    print('7. Relevante LI curves')\n",
    "\n",
    "    print('_'*70)\n",
    "    \n",
    "    return outputPDF"
   ]
  },
  {
   "cell_type": "code",
   "execution_count": null,
   "metadata": {},
   "outputs": [],
   "source": [
    "def print_QA_figs(task):\n",
    "    \"\"\"\n",
    "    Will sequentially output \n",
    "    - the realignment plot for task\n",
    "    - the timeline of a voxel for task\n",
    "    - the artefact analysis for task\n",
    "    - glass brain activation for F-contrast for task\n",
    "    - overlays of activation for tasks on anatomical volumes\n",
    "    - relevant LI curves\n",
    "    \n",
    "    \"\"\"\n",
    "    \n",
    "    outliers = num_outliers_dict[task]\n",
    "    \n",
    "    # define the images to be displayed\n",
    "    realignmentImage = opj(subFiguresN, 'realignmentplot_' + task + '.png')\n",
    "    \n",
    "    for ffile in os.listdir(subFiguresN):\n",
    "        if task in ffile and ffile.startswith('detrended'):\n",
    "            detrendImage = opj(subFiguresN, ffile)\n",
    "            \n",
    "    errorVolumes = opj(subResultsN, 'preproc', 'plot.r' + subid + '_task-' + task + '_bold.png')\n",
    "                       \n",
    "    glassImage = opj(subFiguresN, 'GlassBrain_' + task + '.png')\n",
    "                       \n",
    "    designImage = opj(subFiguresN, 'DesignMatrix_' + task + '.png')\n",
    "    \n",
    "    ima1 = plt.imread(realignmentImage)\n",
    "    ima2 = plt.imread(detrendImage)\n",
    "    ima3 = plt.imread(errorVolumes)\n",
    "    ima4 = plt.imread(glassImage)\n",
    "    ima5 = plt.imread(designImage)\n",
    "\n",
    "    figPrep = plt.figure(figsize=(16,20), constrained_layout=True)\n",
    "\n",
    "    figPrep.suptitle('Q&A for %s' % task, fontsize=20)\n",
    "\n",
    "    gs1 = figPrep.add_gridspec(nrows=3, ncols=7, left=0.00, right=1, wspace=-.10)\n",
    "\n",
    "    fP_ax1 = figPrep.add_subplot(gs1[0, :])\n",
    "    fP_ax1.imshow(ima1)\n",
    "    fP_ax1.axis('off')\n",
    "\n",
    "    fP_ax2 = figPrep.add_subplot(gs1[-2, :-3])\n",
    "    fP_ax2.imshow(ima2)\n",
    "    fP_ax2.axis('off')\n",
    "\n",
    "    fP_ax3 = figPrep.add_subplot(gs1[-2, -3:])\n",
    "    titleEV = 'Volume errors - outliers = ' + str(outliers)\n",
    "    fP_ax3.set_title(titleEV, fontsize=14)\n",
    "    fP_ax3.imshow(ima3)\n",
    "    fP_ax3.axis('off')\n",
    "\n",
    "    fP_ax2 = figPrep.add_subplot(gs1[-1, :-3])\n",
    "    fP_ax2.imshow(ima4)\n",
    "    fP_ax2.axis('off')\n",
    "\n",
    "    fP_ax2 = figPrep.add_subplot(gs1[-1, -3:])\n",
    "    fP_ax2.imshow(ima5)\n",
    "    fP_ax2.axis('off')"
   ]
  },
  {
   "cell_type": "code",
   "execution_count": null,
   "metadata": {},
   "outputs": [],
   "source": [
    "def plot_LI_curves(task):\n",
    "    \"\"\"\n",
    "    function to plot all the LI curves decently\n",
    "    \n",
    "    \"\"\"\n",
    "    \n",
    "    # check how many LI curves for the task\n",
    "    \n",
    "    licList = sorted([f for f in os.listdir(subFiguresN) if f.startswith('LI_' + task.upper())])\n",
    "    lenLI = len(licList)\n",
    "        \n",
    "    # print a single LI curve larger and if more than one always in 2 columns\n",
    "    \n",
    "    if lenLI == 0:\n",
    "        print('No LI-curves for %s' % task.upper())\n",
    "    elif lenLI == 1:\n",
    "        fig = plt.figure(figsize=(12,8))\n",
    "        fig.suptitle(\"LI Curves for \" + task.upper(), fontsize=20)\n",
    "        plt.imshow(imageio.imread(opj(subFiguresN, licList[0])))\n",
    "        #axarr[0, 0].set_title('Frontal lobes', fontsize=14)\n",
    "        plt.axis('off')\n",
    "    elif lenLI > 1:\n",
    "        # create an emty image is the number of LI-curves is unequal\n",
    "        if lenLI%2 == 1:\n",
    "            img = Image.new(\"RGB\", (256, 256), (255, 255, 255))\n",
    "            newLI = 'LI_' + task.upper() + '_ZZZZ.png'\n",
    "            img.save(opj(subFiguresN, newLI))\n",
    "            licList.append(newLI)\n",
    "            lenLI += 1  \n",
    "        # plot now an even number of images in 2 columns\n",
    "        gridN = int((lenLI+1)/2)\n",
    "        fig, axarr = plt.subplots(2,gridN,figsize=(16,12))\n",
    "        fig.suptitle(\"LI Curves for \" + task.upper(), fontsize=20)\n",
    "        for figNum in range(lenLI):\n",
    "            if figNum < gridN:\n",
    "                rowNum = 0\n",
    "                colNum = figNum\n",
    "            else:\n",
    "                rowNum = 1\n",
    "                colNum = figNum - gridN\n",
    "\n",
    "            image = imageio.imread(opj(subFiguresN, licList[figNum]))\n",
    "            axarr[rowNum, colNum].axis('off')    \n",
    "            axarr[rowNum, colNum].imshow(image)"
   ]
  },
  {
   "cell_type": "code",
   "execution_count": null,
   "metadata": {
    "ipub": {
     "ignore": true
    }
   },
   "outputs": [],
   "source": [
    "def plot_LIs(task):\n",
    "    \"\"\"\n",
    "    Function to plot the LI curves to screen\n",
    "    \n",
    "    \"\"\"\n",
    "    \n",
    "    countLI = 0\n",
    "    LIList = []\n",
    "    for ff in os.listdir(opj(subFiguresN)):\n",
    "        if ff.startswith('LI_' + task.upper()):\n",
    "            countLI += 1\n",
    "            LIList.append(ff)\n",
    "            \n",
    "    fig = plt.figure()\n",
    "    fig.set_size_inches(15, 30)\n",
    "    \n",
    "    for i, ff in enumerate(sorted(LIList)):\n",
    "        img = mpimg.imread(opj(subFiguresN, ff))\n",
    "        a = fig.add_subplot(len(LIList), 1, i+1)\n",
    "        plt.axis('off')\n",
    "        plt.imshow(img)\n",
    "        region = ff.split('.')[0].split('_')[-1]\n",
    "        a.set_title(task + ' ' + region)"
   ]
  },
  {
   "cell_type": "code",
   "execution_count": null,
   "metadata": {
    "ipub": {
     "ignore": true
    }
   },
   "outputs": [],
   "source": [
    "def print_report_old(task):\n",
    "    \"\"\"\n",
    "    Will sequentially output \n",
    "    - the realignment plot for task\n",
    "    - the timeline of a voxel for task\n",
    "    - the artefact analysis for task\n",
    "    - glass brain activation for F-contrast for task\n",
    "    - overlays of activation for tasks on anatomical volumes\n",
    "    - relevant LI curves\n",
    "    \n",
    "    \"\"\"\n",
    "    \n",
    "    #printmd('***Rapport voor taak %s.***' % task.upper())\n",
    "\n",
    "    display(Image(opj(subFiguresN, 'realignmentplot_' + task + '.png')))\n",
    "\n",
    "    for ffile in os.listdir(subFiguresN):\n",
    "        if task in ffile and ffile.startswith('detrended'):\n",
    "            plotfile = ffile\n",
    "\n",
    "    display(Image(opj(subFiguresN, plotfile)))\n",
    "\n",
    "    display(SVG(filename = opj(subResultsN, 'preproc', 'plot.r' + subid + '_task-' + task + '_bold.svg')))\n",
    "    \n",
    "    outliers = num_outliers_dict[task]\n",
    "    \n",
    "    printmd('*Aantal uitgesloten EPI volumes met belangrijk artefact in taak %s = %s*' % (task.upper(), str(outliers)))\n",
    "    \n",
    "    printlines(3)\n",
    "    \n",
    "    def display_overlay(newtask):\n",
    "        display(Image(opj(subFiguresN, 'GlassBrain_' + newtask + '.png')))\n",
    "        display(Image(opj(subFiguresN, 'DesignMatrix_' + newtask + '.png')))\n",
    "        \n",
    "        printmd('**Designmatrix en glasbrein activatie voor %s**' % newtask.upper())\n",
    "        \n",
    "        printlines(3)\n",
    "        \n",
    "        overlay_list = []\n",
    "        for ffile in os.listdir(subFiguresN):\n",
    "            if newtask in ffile.lower() and ffile.startswith('overlay'):\n",
    "                overlay_list.append(ffile)\n",
    "\n",
    "        for overlayimage in overlay_list:        \n",
    "            parts = overlayimage.split('_')\n",
    "            if 'tra' in parts: direction = 'Axiaal'\n",
    "            if 'cor' in parts: direction = 'Coronaal'\n",
    "            if 'sag' in parts: direction = 'Sagittaal'\n",
    "            if 'anat' in parts: bckgrnd = 'T1-MPRAGE'\n",
    "            if 'epi' in parts: bckgrnd = 'EPI'\n",
    "            if 'spmT' in parts: contrast = 'SPM-T'\n",
    "            if 'spmF' in parts: contrast = 'SPM-F'\n",
    "\n",
    "            overlay_title = newtask.upper() + ' ' + contrast + ' contrast op ' + bckgrnd + ' overlay.'\n",
    "            display(Image(opj(subFiguresN, overlayimage)))\n",
    "\n",
    "            printmd('***%s, neurologische conventie (links = links).***' % overlay_title, color = 'blue')\n",
    "            \n",
    "    if task != 'enconew':\n",
    "        display_overlay(task)\n",
    "    else:\n",
    "        # we only show the ER results of enconew\n",
    "        display_overlay(task)\n",
    "\n",
    "    for ff in os.listdir(opj(subFiguresN)):\n",
    "        if ff.startswith('LI_' + task.upper()):\n",
    "            display(Image(opj(subFiguresN, ff), height=5)) \n"
   ]
  },
  {
   "cell_type": "code",
   "execution_count": null,
   "metadata": {},
   "outputs": [],
   "source": [
    "def display_overlay(task):\n",
    "    \n",
    "    overlay_list = []\n",
    "    for ffile in os.listdir(subFiguresN):\n",
    "        if task in ffile.lower() and ffile.startswith('overlay'):\n",
    "            overlay_list.append(ffile)\n",
    "\n",
    "    for overlayimage in overlay_list:\n",
    "        #printlines(3)\n",
    "        parts = overlayimage.split('_')\n",
    "        if 'tra' in parts: direction = 'Axiaal (neurologische conventie!! LINKS = LINKS)'\n",
    "        if 'cor' in parts: direction = 'Coronaal (neurologische conventie!! LINKS = LINKS)'\n",
    "        if 'sag' in parts: direction = 'Sagittaal'\n",
    "        if 'anat' in parts: bckgrnd = 'T1-MPRAGE'\n",
    "        if 'epi' in parts: bckgrnd = 'EPI'\n",
    "        if 'spmT' in parts: contrast = 'SPM-T'\n",
    "        if 'spmF' in parts: contrast = 'SPM-F'\n",
    "\n",
    "        overlay_title = task.upper() + '(' + contrast + ', ' + direction + ')'\n",
    "        \n",
    "        newImage = plt.imread(opj(subFiguresN, overlayimage))\n",
    "        plt.figure(figsize = (20,30))\n",
    "        plt.axis('off')\n",
    "        plt.title('***%s.***' % overlay_title, fontsize = 20, y=.02, color=\"white\")\n",
    "        plt.imshow(newImage)#, aspect='auto')"
   ]
  },
  {
   "cell_type": "code",
   "execution_count": null,
   "metadata": {},
   "outputs": [],
   "source": [
    "def print_report(task):\n",
    "    \"\"\"\n",
    "    Will sequentially output \n",
    "    - the realignment plot for task\n",
    "    - the timeline of a voxel for task\n",
    "    - the artefact analysis for task\n",
    "    - glass brain activation for F-contrast for task\n",
    "    - overlays of activation for tasks on anatomical volumes\n",
    "    - relevant LI curves\n",
    "    \n",
    "    \"\"\"\n",
    "\n",
    "    print_QA_figs(task)\n",
    "    \n",
    "    printlines(3)\n",
    "    \n",
    "    display_overlay(task)\n",
    "\n",
    "    plot_LI_curves(task)\n"
   ]
  },
  {
   "cell_type": "code",
   "execution_count": null,
   "metadata": {
    "ipub": {
     "ignore": true
    }
   },
   "outputs": [],
   "source": [
    "def show_subjects():\n",
    "    \"\"\"\n",
    "    function to display a tabel of the subjects in /data/Patients/SubjectInfoFiles/subjects.tsv\n",
    "    \n",
    "    \"\"\"\n",
    "\n",
    "    print(' #   Subject                                  Adrema          Accession  Date Exam  Referral                                           fMRI tasks                                                       DTI     F-map     Figs    Report')\n",
    "    print('-'*220)\n",
    "    with open(opj(iDir, 'subjects.tsv'), 'rt') as tsvFile:\n",
    "        reader = csv.reader(tsvFile, delimiter='\\t')\n",
    "        #sortedLines = sorted(reader, key=operator.itemgetter(3))\n",
    "        idx = 0\n",
    "        for row in reader:\n",
    "            idx = idx + 1\n",
    "            row = [idx] + row\n",
    "            print(' {:<3} {:<40} {:<15} {:<10} {:<10} {:<50} {:<65} {:<8} {:<8} {:<8} {:<8}'.format(*row))"
   ]
  },
  {
   "cell_type": "code",
   "execution_count": null,
   "metadata": {},
   "outputs": [],
   "source": [
    "def update_subjects():\n",
    "    \"\"\"\n",
    "    Function to update certain parameters in /data/Patients/SubjectInfoFiles/subjects.tsv\n",
    "    \n",
    "    \"\"\"\n",
    "    \n",
    "    show_subjects()\n",
    "    \n",
    "    with open(opj(wDir, 'SubjectInfoFiles', 'subjects.tsv'), 'rt') as tsv_file:\n",
    "        reader = csv.reader(tsv_file, delimiter='\\t')\n",
    "        lines = list(reader)\n",
    "\n",
    "    rows = len(lines) \n",
    "    \n",
    "    try:\n",
    "        answer = int(input('\\nWelke lijn wilt u aanpassen?:'))-1\n",
    "        print(lines[answer])\n",
    "        \n",
    "        param2Change = {'Referral':4, 'Figs':8, 'Report':9}\n",
    "\n",
    "        if answer in range(rows) and answer != 0:\n",
    "            \n",
    "            item = input('\\nWelke waarde wil je veranderen? (kies uit: %s): ' % (', '.join(str(i) for i in list(param2Change.keys()))))\n",
    "            if item in param2Change.keys():\n",
    "                position = param2Change[item]\n",
    "                print(\"\\nHuidige waarde variable '%s' = %s\" % (item, lines[answer][position]))\n",
    "                newvalue = input(\"\\nNieuwe waarde voor variabele '%s' = \" % item)\n",
    "                lines[answer][position] = newvalue\n",
    "                \n",
    "                print(lines[answer])\n",
    "                \n",
    "                with open(opj(wDir, 'SubjectInfoFiles', 'newsubjects.tsv'), 'w') as tsv_file:\n",
    "                    writer = csv.writer(tsv_file, delimiter='\\t')\n",
    "                    writer.writerows(lines)\n",
    "                \n",
    "                shutil.copy(opj(wDir, 'SubjectInfoFiles', 'subjects.tsv'), opj(wDir, 'SubjectInfoFiles', 'subjects.tsv.backup'))\n",
    "                shutil.copy(opj(wDir, 'SubjectInfoFiles', 'newsubjects.tsv'), opj(wDir, 'SubjectInfoFiles', 'subjects.tsv'))\n",
    "                os.remove(opj(wDir, 'SubjectInfoFiles', 'newsubjects.tsv'))\n",
    "                \n",
    "                clear_output()\n",
    "                \n",
    "                print('Dit is the aangepaste subjects.tsv file:\\n')\n",
    "                show_subjects()\n",
    "                \n",
    "            else:\n",
    "                print('Deze parameter bestaat niet!')\n",
    "\n",
    "        else:\n",
    "            print('Deze rij bestaat niet (of is hoofding)!')\n",
    "\n",
    "    except:\n",
    "        print('Fout! Duid een lijn aan met een nummer!')"
   ]
  },
  {
   "cell_type": "code",
   "execution_count": null,
   "metadata": {},
   "outputs": [],
   "source": [
    "def svgtopng(task):\n",
    "    \"\"\"\n",
    "    Convert the error volume svg to png format\n",
    "    \n",
    "    \"\"\"\n",
    "    \n",
    "    svgFile = opj(subResultsN, 'preproc', 'plot.r' + subid + '_task-' + task + '_bold.svg')\n",
    "    pngFile = opj(subResultsN, 'preproc', 'plot.r' + subid + '_task-' + task + '_bold.png')\n",
    "    \n",
    "    svg2png(url=svgFile, write_to=pngFile)\n",
    "    \n",
    "    print('converted %s to %s' % (svgFile, pngFile))"
   ]
  },
  {
   "cell_type": "markdown",
   "metadata": {
    "extensions": {
     "jupyter_dashboards": {
      "version": 1,
      "views": {
       "grid_default": {
        "hidden": true
       },
       "report_default": {
        "hidden": true
       }
      }
     }
    },
    "init_cell": true
   },
   "source": [
    "# Patient summary information"
   ]
  },
  {
   "cell_type": "code",
   "execution_count": null,
   "metadata": {
    "ipub": {
     "ignore": true
    }
   },
   "outputs": [],
   "source": [
    "patient_list = subjects4report()"
   ]
  },
  {
   "cell_type": "code",
   "execution_count": null,
   "metadata": {
    "ipub": {
     "ignore": true
    }
   },
   "outputs": [],
   "source": [
    "patient2report = select_patient4report(patient_list)"
   ]
  },
  {
   "cell_type": "code",
   "execution_count": null,
   "metadata": {
    "ipub": {
     "ignore": true
    }
   },
   "outputs": [],
   "source": [
    "# Here we define some useful variables for reporting\n",
    "subid = patient2report[0]\n",
    "subDir = opj(wDir, patient2report[0])\n",
    "suboDir = opj(oDir, patient2report[0])\n",
    "subResults = opj(oDir, 'results_' + patient2report[0])\n",
    "subResultsN = opj(oDir, 'results_' + patient2report[0] + '-N')\n",
    "subFigures = opj(subResults, 'figures')\n",
    "subFiguresN = opj(subResultsN, 'figures')\n",
    "taskList = list(patient2report[2].keys())\n",
    "subTasks = [x.split('-N')[0] for x in taskList]"
   ]
  },
  {
   "cell_type": "code",
   "execution_count": null,
   "metadata": {
    "ipub": {
     "ignore": true
    }
   },
   "outputs": [],
   "source": [
    "# Try to publish into PDF, create the necessary dirs\n",
    "ippub_outputpath = subFiguresN + '/ippub_output/'\n",
    "if os.path.isdir(ippub_outputpath) == False:\n",
    "    print('Creating dir %s' % ippub_outputpath)\n",
    "    os.mkdir(ippub_outputpath)\n",
    "else:\n",
    "    print('%s exists.' % ippub_outputpath)\n",
    "\n",
    "time.sleep(2)\n",
    "\n",
    "clear_output()"
   ]
  },
  {
   "cell_type": "code",
   "execution_count": null,
   "metadata": {
    "ipub": {
     "ignore": true
    }
   },
   "outputs": [],
   "source": [
    "num_outliers_dict = {}\n",
    "for task in subTasks:\n",
    "    file_id = 'art.r' + subid + '_task-' + task + '_bold_outliers.txt'\n",
    "    num_outliers = file_len(opj(subResultsN, 'preproc', file_id))\n",
    "    num_outliers_dict[task] = num_outliers"
   ]
  },
  {
   "cell_type": "code",
   "execution_count": null,
   "metadata": {
    "ipub": {
     "text": {
      "asfloat": true,
      "caption": "",
      "format": {
       "basicstyle": "\\small"
      },
      "label": "code:example_sym",
      "placement": "H",
      "use_ansi": false,
      "widefigure": false
     }
    }
   },
   "outputs": [],
   "source": [
    "outputPDF = print_summary(patient2report)"
   ]
  },
  {
   "cell_type": "code",
   "execution_count": null,
   "metadata": {},
   "outputs": [],
   "source": [
    "newTaskList = [f.split('-')[0].upper() for f in taskList if f.endswith('N')]\n",
    "taskString = ', '.join(newTaskList)"
   ]
  },
  {
   "cell_type": "code",
   "execution_count": null,
   "metadata": {},
   "outputs": [],
   "source": [
    "task = input('Report for task: ')\n",
    "clear_output()"
   ]
  },
  {
   "cell_type": "code",
   "execution_count": null,
   "metadata": {},
   "outputs": [],
   "source": [
    "display(Markdown(\"\"\"# Rapport voor %s\"\"\" % task))"
   ]
  },
  {
   "cell_type": "code",
   "execution_count": null,
   "metadata": {},
   "outputs": [],
   "source": [
    "if task.upper() in newTaskList:\n",
    "    print_QA_figs(task)\n",
    "    display_overlay(task)\n",
    "    plot_LI_curves(task)\n",
    "else:\n",
    "    print('%s.upper not in task list!')"
   ]
  },
  {
   "cell_type": "code",
   "execution_count": null,
   "metadata": {},
   "outputs": [],
   "source": [
    "task = input('Report for task: ')\n",
    "clear_output()"
   ]
  },
  {
   "cell_type": "code",
   "execution_count": null,
   "metadata": {},
   "outputs": [],
   "source": [
    "display(Markdown(\"\"\"# Rapport voor %s\"\"\" % task))"
   ]
  },
  {
   "cell_type": "code",
   "execution_count": null,
   "metadata": {},
   "outputs": [],
   "source": [
    "if task.upper() in newTaskList:\n",
    "    print_QA_figs(task)\n",
    "    display_overlay(task)\n",
    "    plot_LI_curves(task)\n",
    "else:\n",
    "    print('%s.upper not in task list!')"
   ]
  },
  {
   "cell_type": "code",
   "execution_count": null,
   "metadata": {},
   "outputs": [],
   "source": [
    "task = input('Report for task: ')\n",
    "clear_output()"
   ]
  },
  {
   "cell_type": "code",
   "execution_count": null,
   "metadata": {},
   "outputs": [],
   "source": [
    "display(Markdown(\"\"\"# Rapport voor %s\"\"\" % task))"
   ]
  },
  {
   "cell_type": "code",
   "execution_count": null,
   "metadata": {},
   "outputs": [],
   "source": [
    "if task.upper() in newTaskList:\n",
    "    print_QA_figs(task)\n",
    "    display_overlay(task)\n",
    "    plot_LI_curves(task)\n",
    "else:\n",
    "    print('%s.upper not in task list!')"
   ]
  },
  {
   "cell_type": "code",
   "execution_count": null,
   "metadata": {},
   "outputs": [],
   "source": [
    "task = input('Report for task: ')\n",
    "clear_output()"
   ]
  },
  {
   "cell_type": "code",
   "execution_count": null,
   "metadata": {},
   "outputs": [],
   "source": [
    "display(Markdown(\"\"\"# Rapport voor %s\"\"\" % task))"
   ]
  },
  {
   "cell_type": "code",
   "execution_count": null,
   "metadata": {},
   "outputs": [],
   "source": [
    "if task.upper() in newTaskList:\n",
    "    print_QA_figs(task)\n",
    "    display_overlay(task)\n",
    "    plot_LI_curves(task)\n",
    "else:\n",
    "    print('%s.upper not in task list!')"
   ]
  },
  {
   "cell_type": "code",
   "execution_count": null,
   "metadata": {},
   "outputs": [],
   "source": [
    "task = input('Report for task: ')\n",
    "clear_output()"
   ]
  },
  {
   "cell_type": "code",
   "execution_count": null,
   "metadata": {},
   "outputs": [],
   "source": [
    "display(Markdown(\"\"\"# Rapport voor %s\"\"\" % task))"
   ]
  },
  {
   "cell_type": "code",
   "execution_count": null,
   "metadata": {},
   "outputs": [],
   "source": [
    "if task.upper() in newTaskList:\n",
    "    print_QA_figs(task)\n",
    "    display_overlay(task)\n",
    "    plot_LI_curves(task)\n",
    "else:\n",
    "    print('%s.upper not in task list!')"
   ]
  },
  {
   "cell_type": "code",
   "execution_count": null,
   "metadata": {},
   "outputs": [],
   "source": [
    "task = input('Report for task: ')\n",
    "clear_output()"
   ]
  },
  {
   "cell_type": "code",
   "execution_count": null,
   "metadata": {},
   "outputs": [],
   "source": [
    "display(Markdown(\"\"\"# Rapport voor %s\"\"\" % task))"
   ]
  },
  {
   "cell_type": "code",
   "execution_count": null,
   "metadata": {},
   "outputs": [],
   "source": [
    "if task.upper() in newTaskList:\n",
    "    print_QA_figs(task)\n",
    "    display_overlay(task)\n",
    "    plot_LI_curves(task)\n",
    "else:\n",
    "    print('%s.upper not in task list!')"
   ]
  },
  {
   "cell_type": "markdown",
   "metadata": {
    "ipub": {
     "ignore": true
    }
   },
   "source": [
    "# Additionele commentaar"
   ]
  },
  {
   "cell_type": "code",
   "execution_count": null,
   "metadata": {
    "ipub": {
     "ignore": true
    }
   },
   "outputs": [],
   "source": [
    "print('Standaard drempels voor spmT in UZG:')\n",
    "print(drempels_dict)\n",
    "print('')\n",
    "\n",
    "answer = input('Standaard spmT drempels en correcties? [J]/N')\n",
    "if answer == '' or answer == 'J':\n",
    "    clear_output()\n",
    "    for task in taskList:\n",
    "        task = task.split('-')[0]\n",
    "        if task == 'enconew': print('Gebruikte spmT drempel voor %s = %s' % (task.upper(), drempels_dict['enco_new']))\n",
    "        if task == 'encoold': print('Gebruikte spmT drempel voor %s = %s' % (task.upper(), drempels_dict['enco_old']))\n",
    "        if task == 'read': print('Gebruikte spmT drempel voor %s = %s' % (task.upper(), drempels_dict['read']))\n",
    "        if task == 'wgen': print('Gebruikte spmT drempel voor %s = %s' % (task.upper(), drempels_dict['wgen']))\n",
    "        if task == 'handen': print('Gebruikte spmT drempel voor %s = %s' % (task.upper(), drempels_dict['handen']))\n",
    "        if task == 'voeten': print('Gebruikte spmT drempel voor %s = %s' % (task.upper(), drempels_dict['voeten']))\n",
    "        if task == 'mond': print('Gebruikte spmT drempel voor %s = %s' % (task.upper(), drempels_dict['mond']))\n",
    "        if task == 'visus': print('Gebruikte spmT drempel voor %s = %s' % (task.upper(), drempels_dict['visus']))    \n",
    "    print('')\n",
    "    print('Geen FWE noch Bonferroni correcties')\n",
    "elif answer == 'N':\n",
    "    clear_output()\n",
    "    for task in taskList:\n",
    "        task = task.split('-')[0]\n",
    "        comment = input('Gebruikte spmT drempel voor %s: ' % task.upper())\n",
    "    print('')\n",
    "    answer = input('Correcties: [J]/N')\n",
    "    if answer == '' or answer == 'N':\n",
    "        print('Geen FWE noch Bonferroni correcties')\n",
    "    elif answer == 'J':\n",
    "        for task in taskList:\n",
    "            corr = input('Correcties voor %s' % task)\n",
    "else:\n",
    "    print('Antwoord a.u.b. met J of N.')\n",
    "\n",
    "comment = input('Extra commentaar: ')"
   ]
  },
  {
   "cell_type": "code",
   "execution_count": null,
   "metadata": {
    "ipub": {
     "ignore": true
    }
   },
   "outputs": [],
   "source": [
    "# Try to publish into PDF, create the necessary dir\n",
    "ippub_outputpath = subFiguresN + '/ippub_output/'\n",
    "if os.path.isdir(ippub_outputpath) == False:\n",
    "    print('Creating dir %s' % ippub_outputpath)\n",
    "    os.mkdir(ippub_outputpath)\n",
    "else:\n",
    "    print('%s exists.' % ippub_outputpath)\n",
    "    \n",
    "reportnotebook = '/home/rikachten/Dropbox/Notebooks/fMRI_UZG/fMRI Structured Report.ipynb'\n",
    "oldnamePDF = '/home/rikachten/Dropbox/Notebooks/fMRI_UZG/fMRI Structured Report.pdf'\n",
    "newnamePDF = '/home/rikachten/Dropbox/Notebooks/fMRI_UZG/fMRI_results/' + outputPDF\n",
    "\n",
    "print('When this text disappears: save the notebook before running the last cells!!!!')\n",
    "\n",
    "time.sleep(5)\n",
    "clear_output()"
   ]
  },
  {
   "cell_type": "code",
   "execution_count": null,
   "metadata": {
    "ipub": {
     "ignore": true
    },
    "scrolled": true
   },
   "outputs": [],
   "source": [
    "#!nbpublish -f latex_ipypublish_nocode -o {ippub_outputpath} -pdf {reportnotebook}"
   ]
  },
  {
   "cell_type": "code",
   "execution_count": null,
   "metadata": {},
   "outputs": [],
   "source": [
    "%%capture\n",
    "!jupyter nbconvert --no-input --to pdf '{reportnotebook}'"
   ]
  },
  {
   "cell_type": "code",
   "execution_count": null,
   "metadata": {},
   "outputs": [],
   "source": [
    "os.rename(oldnamePDF, newnamePDF)"
   ]
  },
  {
   "cell_type": "code",
   "execution_count": null,
   "metadata": {
    "ipub": {
     "ignore": true
    }
   },
   "outputs": [],
   "source": [
    "update_subjects()"
   ]
  },
  {
   "cell_type": "code",
   "execution_count": null,
   "metadata": {},
   "outputs": [],
   "source": []
  }
 ],
 "metadata": {
  "celltoolbar": "Edit Metadata",
  "kernelspec": {
   "display_name": "Python 3",
   "language": "python",
   "name": "python3"
  },
  "language_info": {
   "codemirror_mode": {
    "name": "ipython",
    "version": 3
   },
   "file_extension": ".py",
   "mimetype": "text/x-python",
   "name": "python",
   "nbconvert_exporter": "python",
   "pygments_lexer": "ipython3",
   "version": "3.7.12"
  },
  "latex_envs": {
   "LaTeX_envs_menu_present": true,
   "autoclose": false,
   "autocomplete": true,
   "bibliofile": "biblio.bib",
   "cite_by": "apalike",
   "current_citInitial": 1,
   "eqLabelWithNumbers": true,
   "eqNumInitial": 1,
   "hotkeys": {
    "equation": "Ctrl-E",
    "itemize": "Ctrl-I"
   },
   "labels_anchors": false,
   "latex_user_defs": false,
   "report_style_numbering": false,
   "user_envs_cfg": false
  },
  "output_auto_scroll": true,
  "toc": {
   "base_numbering": 1,
   "nav_menu": {},
   "number_sections": true,
   "sideBar": true,
   "skip_h1_title": false,
   "title_cell": "Table of Contents",
   "title_sidebar": "Contents",
   "toc_cell": false,
   "toc_position": {},
   "toc_section_display": true,
   "toc_window_display": true
  },
  "toc-autonumbering": false,
  "toc-showcode": false,
  "toc-showmarkdowntxt": true,
  "varInspector": {
   "cols": {
    "lenName": 16,
    "lenType": 16,
    "lenVar": 40
   },
   "kernels_config": {
    "python": {
     "delete_cmd_postfix": "",
     "delete_cmd_prefix": "del ",
     "library": "var_list.py",
     "varRefreshCmd": "print(var_dic_list())"
    },
    "r": {
     "delete_cmd_postfix": ") ",
     "delete_cmd_prefix": "rm(",
     "library": "var_list.r",
     "varRefreshCmd": "cat(var_dic_list()) "
    }
   },
   "types_to_exclude": [
    "module",
    "function",
    "builtin_function_or_method",
    "instance",
    "_Feature"
   ],
   "window_display": false
  }
 },
 "nbformat": 4,
 "nbformat_minor": 4
}
